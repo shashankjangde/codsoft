{
  "cells": [
    {
      "cell_type": "markdown",
      "source": [
        "# Codsoft Task 2\n",
        "\n",
        "## MOVIE RATING PREDICTION WITH PYTHON"
      ],
      "metadata": {
        "id": "DggSCza2u5Zk"
      },
      "id": "DggSCza2u5Zk"
    },
    {
      "cell_type": "code",
      "execution_count": 3,
      "id": "26b5f32c",
      "metadata": {
        "_cell_guid": "b1076dfc-b9ad-4769-8c92-a6c4dae69d19",
        "_uuid": "8f2839f25d086af736a60e9eeb907d3b93b6e0e5",
        "execution": {
          "iopub.execute_input": "2025-01-05T13:47:18.493724Z",
          "iopub.status.busy": "2025-01-05T13:47:18.493323Z",
          "iopub.status.idle": "2025-01-05T13:47:20.119512Z",
          "shell.execute_reply": "2025-01-05T13:47:20.118634Z"
        },
        "papermill": {
          "duration": 1.634528,
          "end_time": "2025-01-05T13:47:20.121370",
          "exception": false,
          "start_time": "2025-01-05T13:47:18.486842",
          "status": "completed"
        },
        "tags": [],
        "id": "26b5f32c"
      },
      "outputs": [],
      "source": [
        "import numpy as np\n",
        "import pandas as pd\n",
        "import matplotlib.pyplot as plt\n",
        "from sklearn.model_selection import train_test_split\n",
        "from sklearn.linear_model import LinearRegression\n",
        "from sklearn.metrics import mean_squared_error, r2_score\n",
        "from sklearn.decomposition import PCA\n",
        "from sklearn.preprocessing import StandardScaler\n",
        "import os"
      ]
    },
    {
      "cell_type": "code",
      "execution_count": 4,
      "id": "740ef820",
      "metadata": {
        "execution": {
          "iopub.execute_input": "2025-01-05T13:47:20.132001Z",
          "iopub.status.busy": "2025-01-05T13:47:20.131508Z",
          "iopub.status.idle": "2025-01-05T13:47:20.230894Z",
          "shell.execute_reply": "2025-01-05T13:47:20.229732Z"
        },
        "papermill": {
          "duration": 0.106459,
          "end_time": "2025-01-05T13:47:20.232700",
          "exception": false,
          "start_time": "2025-01-05T13:47:20.126241",
          "status": "completed"
        },
        "tags": [],
        "colab": {
          "base_uri": "https://localhost:8080/"
        },
        "id": "740ef820",
        "outputId": "42cc87d6-da80-49f6-a0a0-46928226a38c"
      },
      "outputs": [
        {
          "output_type": "stream",
          "name": "stdout",
          "text": [
            "                                 Name    Year Duration            Genre  \\\n",
            "0                                         NaN      NaN            Drama   \n",
            "1  #Gadhvi (He thought he was Gandhi)  (2019)  109 min            Drama   \n",
            "2                         #Homecoming  (2021)   90 min   Drama, Musical   \n",
            "3                             #Yaaram  (2019)  110 min  Comedy, Romance   \n",
            "4                   ...And Once Again  (2010)  105 min            Drama   \n",
            "\n",
            "   Rating Votes            Director       Actor 1             Actor 2  \\\n",
            "0     NaN   NaN       J.S. Randhawa      Manmauji              Birbal   \n",
            "1     7.0     8       Gaurav Bakshi  Rasika Dugal      Vivek Ghamande   \n",
            "2     NaN   NaN  Soumyajit Majumdar  Sayani Gupta   Plabita Borthakur   \n",
            "3     4.4    35          Ovais Khan       Prateik          Ishita Raj   \n",
            "4     NaN   NaN        Amol Palekar  Rajat Kapoor  Rituparna Sengupta   \n",
            "\n",
            "           Actor 3  \n",
            "0  Rajendra Bhatia  \n",
            "1    Arvind Jangid  \n",
            "2       Roy Angana  \n",
            "3  Siddhant Kapoor  \n",
            "4      Antara Mali  \n"
          ]
        }
      ],
      "source": [
        "data = pd.read_csv('IMDb Movies India.csv', encoding='ISO-8859-1')\n",
        "\n",
        "print(data.head())\n"
      ]
    },
    {
      "cell_type": "code",
      "execution_count": 5,
      "id": "bf8fc825",
      "metadata": {
        "execution": {
          "iopub.execute_input": "2025-01-05T13:47:20.243247Z",
          "iopub.status.busy": "2025-01-05T13:47:20.242916Z",
          "iopub.status.idle": "2025-01-05T13:47:20.258441Z",
          "shell.execute_reply": "2025-01-05T13:47:20.257196Z"
        },
        "papermill": {
          "duration": 0.022663,
          "end_time": "2025-01-05T13:47:20.260122",
          "exception": false,
          "start_time": "2025-01-05T13:47:20.237459",
          "status": "completed"
        },
        "tags": [],
        "colab": {
          "base_uri": "https://localhost:8080/"
        },
        "id": "bf8fc825",
        "outputId": "7c882c15-7bc6-4ae1-aa91-d639c40059ee"
      },
      "outputs": [
        {
          "output_type": "stream",
          "name": "stdout",
          "text": [
            "Name           0\n",
            "Year         528\n",
            "Duration    8269\n",
            "Genre       1877\n",
            "Rating      7590\n",
            "Votes       7589\n",
            "Director     525\n",
            "Actor 1     1617\n",
            "Actor 2     2384\n",
            "Actor 3     3144\n",
            "dtype: int64\n"
          ]
        }
      ],
      "source": [
        "print(data.isnull().sum())\n"
      ]
    },
    {
      "cell_type": "code",
      "execution_count": 6,
      "id": "5d4e78e7",
      "metadata": {
        "execution": {
          "iopub.execute_input": "2025-01-05T13:47:20.271097Z",
          "iopub.status.busy": "2025-01-05T13:47:20.270744Z",
          "iopub.status.idle": "2025-01-05T13:47:20.284508Z",
          "shell.execute_reply": "2025-01-05T13:47:20.283349Z"
        },
        "papermill": {
          "duration": 0.020952,
          "end_time": "2025-01-05T13:47:20.286127",
          "exception": false,
          "start_time": "2025-01-05T13:47:20.265175",
          "status": "completed"
        },
        "tags": [],
        "colab": {
          "base_uri": "https://localhost:8080/"
        },
        "id": "5d4e78e7",
        "outputId": "6fc61b8c-7592-4527-bd20-505f7a4f8ef5"
      },
      "outputs": [
        {
          "output_type": "stream",
          "name": "stdout",
          "text": [
            "Name         0.000000\n",
            "Year         3.404475\n",
            "Duration    53.317429\n",
            "Genre       12.102650\n",
            "Rating      48.939326\n",
            "Votes       48.932878\n",
            "Director     3.385131\n",
            "Actor 1     10.426204\n",
            "Actor 2     15.371720\n",
            "Actor 3     20.272100\n",
            "dtype: float64\n"
          ]
        }
      ],
      "source": [
        "missing_percentage = (data.isnull().sum() / len(data)) * 100\n",
        "print(missing_percentage)\n"
      ]
    },
    {
      "cell_type": "code",
      "execution_count": 7,
      "id": "5ba2cad0",
      "metadata": {
        "execution": {
          "iopub.execute_input": "2025-01-05T13:47:20.297153Z",
          "iopub.status.busy": "2025-01-05T13:47:20.296788Z",
          "iopub.status.idle": "2025-01-05T13:47:20.311240Z",
          "shell.execute_reply": "2025-01-05T13:47:20.310255Z"
        },
        "papermill": {
          "duration": 0.021526,
          "end_time": "2025-01-05T13:47:20.312651",
          "exception": false,
          "start_time": "2025-01-05T13:47:20.291125",
          "status": "completed"
        },
        "tags": [],
        "colab": {
          "base_uri": "https://localhost:8080/"
        },
        "id": "5ba2cad0",
        "outputId": "6a7aea5d-7d54-47d4-a3ce-3ab356224d26"
      },
      "outputs": [
        {
          "output_type": "stream",
          "name": "stdout",
          "text": [
            "Dropped columns: Index(['Duration'], dtype='object')\n"
          ]
        }
      ],
      "source": [
        "threshold = 50\n",
        "columns_to_drop = missing_percentage[missing_percentage > threshold].index\n",
        "data.drop(columns=columns_to_drop, inplace=True)\n",
        "print(f\"Dropped columns: {columns_to_drop}\")"
      ]
    },
    {
      "cell_type": "code",
      "execution_count": 8,
      "id": "4eacafba",
      "metadata": {
        "execution": {
          "iopub.execute_input": "2025-01-05T13:47:20.323405Z",
          "iopub.status.busy": "2025-01-05T13:47:20.323092Z",
          "iopub.status.idle": "2025-01-05T13:47:20.358653Z",
          "shell.execute_reply": "2025-01-05T13:47:20.357582Z"
        },
        "papermill": {
          "duration": 0.042948,
          "end_time": "2025-01-05T13:47:20.360585",
          "exception": false,
          "start_time": "2025-01-05T13:47:20.317637",
          "status": "completed"
        },
        "tags": [],
        "colab": {
          "base_uri": "https://localhost:8080/"
        },
        "id": "4eacafba",
        "outputId": "1cdbde8b-2624-40a5-e67c-48271f7e4206"
      },
      "outputs": [
        {
          "output_type": "stream",
          "name": "stderr",
          "text": [
            "<ipython-input-8-74b9bf7b529c>:3: FutureWarning: A value is trying to be set on a copy of a DataFrame or Series through chained assignment using an inplace method.\n",
            "The behavior will change in pandas 3.0. This inplace method will never work because the intermediate object on which we are setting values always behaves as a copy.\n",
            "\n",
            "For example, when doing 'df[col].method(value, inplace=True)', try using 'df.method({col: value}, inplace=True)' or df[col] = df[col].method(value) instead, to perform the operation inplace on the original object.\n",
            "\n",
            "\n",
            "  data['Year'].fillna(0, inplace=True)\n"
          ]
        }
      ],
      "source": [
        "data['Year'] = data['Year'].astype(str).str.replace(r'[^0-9]', '', regex=True)\n",
        "data['Year'] = pd.to_numeric(data['Year'], errors='coerce')\n",
        "data['Year'].fillna(0, inplace=True)\n",
        "data['Year'] = data['Year'].astype(int)"
      ]
    },
    {
      "cell_type": "code",
      "execution_count": 9,
      "id": "3fbd4a14",
      "metadata": {
        "execution": {
          "iopub.execute_input": "2025-01-05T13:47:20.373005Z",
          "iopub.status.busy": "2025-01-05T13:47:20.372519Z",
          "iopub.status.idle": "2025-01-05T13:47:20.381978Z",
          "shell.execute_reply": "2025-01-05T13:47:20.380480Z"
        },
        "papermill": {
          "duration": 0.017893,
          "end_time": "2025-01-05T13:47:20.383962",
          "exception": false,
          "start_time": "2025-01-05T13:47:20.366069",
          "status": "completed"
        },
        "tags": [],
        "colab": {
          "base_uri": "https://localhost:8080/",
          "height": 458
        },
        "id": "3fbd4a14",
        "outputId": "09f7a347-ebff-4602-b627-6f68a0814774"
      },
      "outputs": [
        {
          "output_type": "execute_result",
          "data": {
            "text/plain": [
              "0           0\n",
              "1        2019\n",
              "2        2021\n",
              "3        2019\n",
              "4        2010\n",
              "         ... \n",
              "15504    1988\n",
              "15505    1999\n",
              "15506    2005\n",
              "15507    1988\n",
              "15508    1998\n",
              "Name: Year, Length: 15509, dtype: int64"
            ],
            "text/html": [
              "<div>\n",
              "<style scoped>\n",
              "    .dataframe tbody tr th:only-of-type {\n",
              "        vertical-align: middle;\n",
              "    }\n",
              "\n",
              "    .dataframe tbody tr th {\n",
              "        vertical-align: top;\n",
              "    }\n",
              "\n",
              "    .dataframe thead th {\n",
              "        text-align: right;\n",
              "    }\n",
              "</style>\n",
              "<table border=\"1\" class=\"dataframe\">\n",
              "  <thead>\n",
              "    <tr style=\"text-align: right;\">\n",
              "      <th></th>\n",
              "      <th>Year</th>\n",
              "    </tr>\n",
              "  </thead>\n",
              "  <tbody>\n",
              "    <tr>\n",
              "      <th>0</th>\n",
              "      <td>0</td>\n",
              "    </tr>\n",
              "    <tr>\n",
              "      <th>1</th>\n",
              "      <td>2019</td>\n",
              "    </tr>\n",
              "    <tr>\n",
              "      <th>2</th>\n",
              "      <td>2021</td>\n",
              "    </tr>\n",
              "    <tr>\n",
              "      <th>3</th>\n",
              "      <td>2019</td>\n",
              "    </tr>\n",
              "    <tr>\n",
              "      <th>4</th>\n",
              "      <td>2010</td>\n",
              "    </tr>\n",
              "    <tr>\n",
              "      <th>...</th>\n",
              "      <td>...</td>\n",
              "    </tr>\n",
              "    <tr>\n",
              "      <th>15504</th>\n",
              "      <td>1988</td>\n",
              "    </tr>\n",
              "    <tr>\n",
              "      <th>15505</th>\n",
              "      <td>1999</td>\n",
              "    </tr>\n",
              "    <tr>\n",
              "      <th>15506</th>\n",
              "      <td>2005</td>\n",
              "    </tr>\n",
              "    <tr>\n",
              "      <th>15507</th>\n",
              "      <td>1988</td>\n",
              "    </tr>\n",
              "    <tr>\n",
              "      <th>15508</th>\n",
              "      <td>1998</td>\n",
              "    </tr>\n",
              "  </tbody>\n",
              "</table>\n",
              "<p>15509 rows × 1 columns</p>\n",
              "</div><br><label><b>dtype:</b> int64</label>"
            ]
          },
          "metadata": {},
          "execution_count": 9
        }
      ],
      "source": [
        "data['Year']"
      ]
    },
    {
      "cell_type": "code",
      "execution_count": 10,
      "id": "507bbf9a",
      "metadata": {
        "execution": {
          "iopub.execute_input": "2025-01-05T13:47:20.397683Z",
          "iopub.status.busy": "2025-01-05T13:47:20.397250Z",
          "iopub.status.idle": "2025-01-05T13:47:20.434405Z",
          "shell.execute_reply": "2025-01-05T13:47:20.433270Z"
        },
        "papermill": {
          "duration": 0.046351,
          "end_time": "2025-01-05T13:47:20.436655",
          "exception": false,
          "start_time": "2025-01-05T13:47:20.390304",
          "status": "completed"
        },
        "tags": [],
        "colab": {
          "base_uri": "https://localhost:8080/"
        },
        "id": "507bbf9a",
        "outputId": "d1458d22-754f-4448-e2d4-078ed9aaf487"
      },
      "outputs": [
        {
          "output_type": "stream",
          "name": "stderr",
          "text": [
            "<ipython-input-10-dbbc9f6d8b85>:1: FutureWarning: A value is trying to be set on a copy of a DataFrame or Series through chained assignment using an inplace method.\n",
            "The behavior will change in pandas 3.0. This inplace method will never work because the intermediate object on which we are setting values always behaves as a copy.\n",
            "\n",
            "For example, when doing 'df[col].method(value, inplace=True)', try using 'df.method({col: value}, inplace=True)' or df[col] = df[col].method(value) instead, to perform the operation inplace on the original object.\n",
            "\n",
            "\n",
            "  data['Rating'].fillna(0, inplace=True)\n",
            "<ipython-input-10-dbbc9f6d8b85>:4: FutureWarning: A value is trying to be set on a copy of a DataFrame or Series through chained assignment using an inplace method.\n",
            "The behavior will change in pandas 3.0. This inplace method will never work because the intermediate object on which we are setting values always behaves as a copy.\n",
            "\n",
            "For example, when doing 'df[col].method(value, inplace=True)', try using 'df.method({col: value}, inplace=True)' or df[col] = df[col].method(value) instead, to perform the operation inplace on the original object.\n",
            "\n",
            "\n",
            "  data['Votes'].fillna(0, inplace=True)\n"
          ]
        }
      ],
      "source": [
        "data['Rating'].fillna(0, inplace=True)\n",
        "data['Votes'] = data['Votes'].astype(str).str.replace(',', '', regex=True)\n",
        "data['Votes'] = pd.to_numeric(data['Votes'], errors='coerce')\n",
        "data['Votes'].fillna(0, inplace=True)\n"
      ]
    },
    {
      "cell_type": "code",
      "execution_count": 11,
      "id": "bfb45b44",
      "metadata": {
        "execution": {
          "iopub.execute_input": "2025-01-05T13:47:20.453533Z",
          "iopub.status.busy": "2025-01-05T13:47:20.453124Z",
          "iopub.status.idle": "2025-01-05T13:47:20.468658Z",
          "shell.execute_reply": "2025-01-05T13:47:20.467522Z"
        },
        "papermill": {
          "duration": 0.026494,
          "end_time": "2025-01-05T13:47:20.470702",
          "exception": false,
          "start_time": "2025-01-05T13:47:20.444208",
          "status": "completed"
        },
        "tags": [],
        "colab": {
          "base_uri": "https://localhost:8080/"
        },
        "id": "bfb45b44",
        "outputId": "c7ecf595-82b5-4e6b-c1d9-75b7fac41372"
      },
      "outputs": [
        {
          "output_type": "stream",
          "name": "stdout",
          "text": [
            "Remaining NaNs in numerical columns:\n",
            "Year      0\n",
            "Votes     0\n",
            "Rating    0\n",
            "dtype: int64\n"
          ]
        },
        {
          "output_type": "stream",
          "name": "stderr",
          "text": [
            "<ipython-input-11-2a338c2c3d44>:4: FutureWarning: A value is trying to be set on a copy of a DataFrame or Series through chained assignment using an inplace method.\n",
            "The behavior will change in pandas 3.0. This inplace method will never work because the intermediate object on which we are setting values always behaves as a copy.\n",
            "\n",
            "For example, when doing 'df[col].method(value, inplace=True)', try using 'df.method({col: value}, inplace=True)' or df[col] = df[col].method(value) instead, to perform the operation inplace on the original object.\n",
            "\n",
            "\n",
            "  data[col].fillna(data[col].median(), inplace=True)\n"
          ]
        }
      ],
      "source": [
        "numerical_columns = ['Year', 'Votes', 'Rating']\n",
        "for col in numerical_columns:\n",
        "    data[col] = pd.to_numeric(data[col], errors='coerce')\n",
        "    data[col].fillna(data[col].median(), inplace=True)\n",
        "\n",
        "# Check for remaining NaNs in numerical columns\n",
        "print(\"Remaining NaNs in numerical columns:\")\n",
        "print(data[numerical_columns].isnull().sum())\n"
      ]
    },
    {
      "cell_type": "code",
      "execution_count": 12,
      "id": "4ea49c95",
      "metadata": {
        "execution": {
          "iopub.execute_input": "2025-01-05T13:47:20.481915Z",
          "iopub.status.busy": "2025-01-05T13:47:20.481496Z",
          "iopub.status.idle": "2025-01-05T13:47:20.491606Z",
          "shell.execute_reply": "2025-01-05T13:47:20.490619Z"
        },
        "papermill": {
          "duration": 0.017566,
          "end_time": "2025-01-05T13:47:20.493349",
          "exception": false,
          "start_time": "2025-01-05T13:47:20.475783",
          "status": "completed"
        },
        "tags": [],
        "id": "4ea49c95"
      },
      "outputs": [],
      "source": [
        "q1 = np.percentile(data['Votes'], 25)\n",
        "q3 = np.percentile(data['Votes'], 75)\n",
        "iqr = q3 - q1\n",
        "lower_bound = q1 - 1.5 * iqr\n",
        "upper_bound = q3 + 1.5 * iqr\n",
        "\n",
        "data = data[(data['Votes'] >= lower_bound) & (data['Votes'] <= upper_bound)]"
      ]
    },
    {
      "cell_type": "code",
      "execution_count": 12,
      "id": "8c2f482c",
      "metadata": {
        "papermill": {
          "duration": 0.004537,
          "end_time": "2025-01-05T13:47:20.502894",
          "exception": false,
          "start_time": "2025-01-05T13:47:20.498357",
          "status": "completed"
        },
        "tags": [],
        "id": "8c2f482c"
      },
      "outputs": [],
      "source": []
    },
    {
      "cell_type": "code",
      "execution_count": 13,
      "id": "0234fd24",
      "metadata": {
        "execution": {
          "iopub.execute_input": "2025-01-05T13:47:20.513742Z",
          "iopub.status.busy": "2025-01-05T13:47:20.513400Z",
          "iopub.status.idle": "2025-01-05T13:47:20.673320Z",
          "shell.execute_reply": "2025-01-05T13:47:20.672212Z"
        },
        "papermill": {
          "duration": 0.167353,
          "end_time": "2025-01-05T13:47:20.675210",
          "exception": false,
          "start_time": "2025-01-05T13:47:20.507857",
          "status": "completed"
        },
        "tags": [],
        "colab": {
          "base_uri": "https://localhost:8080/"
        },
        "id": "0234fd24",
        "outputId": "ed05aeb9-3656-4619-f93d-b9f4c8857db8"
      },
      "outputs": [
        {
          "output_type": "stream",
          "name": "stderr",
          "text": [
            "<ipython-input-13-9e524cad38ff>:3: FutureWarning: A value is trying to be set on a copy of a DataFrame or Series through chained assignment using an inplace method.\n",
            "The behavior will change in pandas 3.0. This inplace method will never work because the intermediate object on which we are setting values always behaves as a copy.\n",
            "\n",
            "For example, when doing 'df[col].method(value, inplace=True)', try using 'df.method({col: value}, inplace=True)' or df[col] = df[col].method(value) instead, to perform the operation inplace on the original object.\n",
            "\n",
            "\n",
            "  data[col].fillna('Unknown', inplace=True)\n",
            "<ipython-input-13-9e524cad38ff>:3: SettingWithCopyWarning: \n",
            "A value is trying to be set on a copy of a slice from a DataFrame\n",
            "\n",
            "See the caveats in the documentation: https://pandas.pydata.org/pandas-docs/stable/user_guide/indexing.html#returning-a-view-versus-a-copy\n",
            "  data[col].fillna('Unknown', inplace=True)\n",
            "<ipython-input-13-9e524cad38ff>:14: FutureWarning: A value is trying to be set on a copy of a DataFrame or Series through chained assignment using an inplace method.\n",
            "The behavior will change in pandas 3.0. This inplace method will never work because the intermediate object on which we are setting values always behaves as a copy.\n",
            "\n",
            "For example, when doing 'df[col].method(value, inplace=True)', try using 'df.method({col: value}, inplace=True)' or df[col] = df[col].method(value) instead, to perform the operation inplace on the original object.\n",
            "\n",
            "\n",
            "  data['Director_Avg_Rating'].fillna(data['Director_Avg_Rating'].median(), inplace=True)\n",
            "<ipython-input-13-9e524cad38ff>:15: FutureWarning: A value is trying to be set on a copy of a DataFrame or Series through chained assignment using an inplace method.\n",
            "The behavior will change in pandas 3.0. This inplace method will never work because the intermediate object on which we are setting values always behaves as a copy.\n",
            "\n",
            "For example, when doing 'df[col].method(value, inplace=True)', try using 'df.method({col: value}, inplace=True)' or df[col] = df[col].method(value) instead, to perform the operation inplace on the original object.\n",
            "\n",
            "\n",
            "  data['Actor_1_Popularity'].fillna(data['Actor_1_Popularity'].median(), inplace=True)\n"
          ]
        }
      ],
      "source": [
        "categorical_columns = ['Genre', 'Actor 1', 'Actor 2', 'Actor 3', 'Director']\n",
        "for col in categorical_columns:\n",
        "    data[col].fillna('Unknown', inplace=True)\n",
        "\n",
        "top_n = 20\n",
        "for col in categorical_columns:\n",
        "    top_categories = data[col].value_counts().nlargest(top_n).index\n",
        "    data[col] = data[col].apply(lambda x: x if x in top_categories else 'Other')\n",
        "\n",
        "data['Director_Avg_Rating'] = data.groupby('Director')['Rating'].transform('mean')\n",
        "data['Actor_1_Popularity'] = data.groupby('Actor 1')['Actor 1'].transform('count')\n",
        "\n",
        "# Handle missing values\n",
        "data['Director_Avg_Rating'].fillna(data['Director_Avg_Rating'].median(), inplace=True)\n",
        "data['Actor_1_Popularity'].fillna(data['Actor_1_Popularity'].median(), inplace=True)\n",
        "\n",
        "\n",
        "\n",
        "encoded_data = pd.get_dummies(data[categorical_columns], drop_first=True)\n",
        "\n",
        "# Concatenate encoded columns back to the dataset\n",
        "data = pd.concat([data, encoded_data], axis=1).drop(categorical_columns, axis=1)\n"
      ]
    },
    {
      "cell_type": "code",
      "execution_count": 14,
      "id": "e9be7a1f",
      "metadata": {
        "execution": {
          "iopub.execute_input": "2025-01-05T13:47:20.687242Z",
          "iopub.status.busy": "2025-01-05T13:47:20.686749Z",
          "iopub.status.idle": "2025-01-05T13:47:21.895505Z",
          "shell.execute_reply": "2025-01-05T13:47:21.894276Z"
        },
        "papermill": {
          "duration": 1.216866,
          "end_time": "2025-01-05T13:47:21.897461",
          "exception": false,
          "start_time": "2025-01-05T13:47:20.680595",
          "status": "completed"
        },
        "tags": [],
        "colab": {
          "base_uri": "https://localhost:8080/",
          "height": 268
        },
        "id": "e9be7a1f",
        "outputId": "adc6e09e-f9c6-4591-8f74-2bde1af6c88c"
      },
      "outputs": [
        {
          "output_type": "display_data",
          "data": {
            "text/plain": [
              "<Figure size 750x250 with 3 Axes>"
            ],
            "image/png": "[encoded data removed]"
          },
          "metadata": {}
        }
      ],
      "source": [
        "import seaborn as sns\n",
        "import matplotlib.pyplot as plt\n",
        "\n",
        "# Plot relationships between features and target\n",
        "sns.pairplot(data, x_vars=['Year', 'Votes', 'Director_Avg_Rating'], y_vars='Rating', kind='scatter')\n",
        "plt.show()"
      ]
    },
    {
      "cell_type": "code",
      "execution_count": 15,
      "id": "f518fe5f",
      "metadata": {
        "execution": {
          "iopub.execute_input": "2025-01-05T13:47:21.912271Z",
          "iopub.status.busy": "2025-01-05T13:47:21.911773Z",
          "iopub.status.idle": "2025-01-05T13:47:21.916891Z",
          "shell.execute_reply": "2025-01-05T13:47:21.916146Z"
        },
        "papermill": {
          "duration": 0.014189,
          "end_time": "2025-01-05T13:47:21.918396",
          "exception": false,
          "start_time": "2025-01-05T13:47:21.904207",
          "status": "completed"
        },
        "tags": [],
        "id": "f518fe5f"
      },
      "outputs": [],
      "source": [
        "# Select relevant features\n",
        "X = data[['Year', 'Votes', 'Director_Avg_Rating', 'Actor_1_Popularity']]\n",
        "y = data['Rating']\n"
      ]
    },
    {
      "cell_type": "code",
      "execution_count": 16,
      "id": "c54ff43d",
      "metadata": {
        "execution": {
          "iopub.execute_input": "2025-01-05T13:47:21.932354Z",
          "iopub.status.busy": "2025-01-05T13:47:21.932000Z",
          "iopub.status.idle": "2025-01-05T13:47:21.956127Z",
          "shell.execute_reply": "2025-01-05T13:47:21.955064Z"
        },
        "papermill": {
          "duration": 0.03318,
          "end_time": "2025-01-05T13:47:21.958096",
          "exception": false,
          "start_time": "2025-01-05T13:47:21.924916",
          "status": "completed"
        },
        "tags": [],
        "id": "c54ff43d"
      },
      "outputs": [],
      "source": [
        "scaler = StandardScaler()\n",
        "X_scaled = scaler.fit_transform(X)\n",
        "\n",
        "\n",
        "pca = PCA(n_components=0.80)  # Retain 80% of the variance\n",
        "X_pca_reduced = pca.fit_transform(X_scaled)"
      ]
    },
    {
      "cell_type": "code",
      "execution_count": 17,
      "id": "b373db5b",
      "metadata": {
        "execution": {
          "iopub.execute_input": "2025-01-05T13:47:21.973175Z",
          "iopub.status.busy": "2025-01-05T13:47:21.972793Z",
          "iopub.status.idle": "2025-01-05T13:47:21.979882Z",
          "shell.execute_reply": "2025-01-05T13:47:21.979082Z"
        },
        "papermill": {
          "duration": 0.016793,
          "end_time": "2025-01-05T13:47:21.981437",
          "exception": false,
          "start_time": "2025-01-05T13:47:21.964644",
          "status": "completed"
        },
        "tags": [],
        "id": "b373db5b"
      },
      "outputs": [],
      "source": [
        "x_train, x_test, y_train, y_test = train_test_split(X_pca_reduced, y, test_size=0.2, random_state=42)"
      ]
    },
    {
      "cell_type": "code",
      "execution_count": 18,
      "id": "e7941b5f",
      "metadata": {
        "execution": {
          "iopub.execute_input": "2025-01-05T13:47:21.995458Z",
          "iopub.status.busy": "2025-01-05T13:47:21.995121Z",
          "iopub.status.idle": "2025-01-05T13:47:23.973161Z",
          "shell.execute_reply": "2025-01-05T13:47:23.971815Z"
        },
        "papermill": {
          "duration": 1.987013,
          "end_time": "2025-01-05T13:47:23.975023",
          "exception": false,
          "start_time": "2025-01-05T13:47:21.988010",
          "status": "completed"
        },
        "tags": [],
        "id": "e7941b5f"
      },
      "outputs": [],
      "source": [
        "from sklearn.ensemble import RandomForestRegressor\n",
        "\n",
        "model = RandomForestRegressor(n_estimators=100, random_state=42)\n",
        "model.fit(x_train, y_train)\n",
        "y_pred = model.predict(x_test)"
      ]
    },
    {
      "cell_type": "code",
      "execution_count": 19,
      "id": "a0a3aaa9",
      "metadata": {
        "execution": {
          "iopub.execute_input": "2025-01-05T13:47:23.989598Z",
          "iopub.status.busy": "2025-01-05T13:47:23.989240Z",
          "iopub.status.idle": "2025-01-05T13:47:23.996887Z",
          "shell.execute_reply": "2025-01-05T13:47:23.995420Z"
        },
        "papermill": {
          "duration": 0.016786,
          "end_time": "2025-01-05T13:47:23.998670",
          "exception": false,
          "start_time": "2025-01-05T13:47:23.981884",
          "status": "completed"
        },
        "tags": [],
        "colab": {
          "base_uri": "https://localhost:8080/"
        },
        "id": "a0a3aaa9",
        "outputId": "a852c369-9bb8-4b8b-9c08-fc334a612b82"
      },
      "outputs": [
        {
          "output_type": "stream",
          "name": "stdout",
          "text": [
            "Mean Squared Error: 0.6614976242456012\n",
            "R-squared: 0.9236434436006152\n"
          ]
        }
      ],
      "source": [
        "mse = mean_squared_error(y_test, y_pred)\n",
        "r2 = r2_score(y_test, y_pred)\n",
        "print(f'Mean Squared Error: {mse}')\n",
        "print(f'R-squared: {r2}')"
      ]
    },
    {
      "cell_type": "code",
      "execution_count": 20,
      "id": "d14eaa86",
      "metadata": {
        "execution": {
          "iopub.execute_input": "2025-01-05T13:47:24.013815Z",
          "iopub.status.busy": "2025-01-05T13:47:24.013441Z",
          "iopub.status.idle": "2025-01-05T13:47:24.114781Z",
          "shell.execute_reply": "2025-01-05T13:47:24.113593Z"
        },
        "papermill": {
          "duration": 0.110772,
          "end_time": "2025-01-05T13:47:24.116342",
          "exception": false,
          "start_time": "2025-01-05T13:47:24.005570",
          "status": "completed"
        },
        "tags": [],
        "colab": {
          "base_uri": "https://localhost:8080/"
        },
        "id": "d14eaa86",
        "outputId": "9242e60f-332c-489f-f969-6e88c3c6b261"
      },
      "outputs": [
        {
          "output_type": "stream",
          "name": "stdout",
          "text": [
            "Training R²: 0.9760789174874178\n",
            "Test R²: 0.9236434436006152\n"
          ]
        }
      ],
      "source": [
        "y_train_pred = model.predict(x_train)\n",
        "train_r2 = r2_score(y_train, y_train_pred)\n",
        "print(f'Training R²: {train_r2}')\n",
        "\n",
        "# Evaluate on test data\n",
        "test_r2 = r2_score(y_test, y_pred)\n",
        "print(f'Test R²: {test_r2}')"
      ]
    },
    {
      "cell_type": "code",
      "execution_count": 21,
      "id": "8d699e6a",
      "metadata": {
        "execution": {
          "iopub.execute_input": "2025-01-05T13:47:24.130419Z",
          "iopub.status.busy": "2025-01-05T13:47:24.130080Z",
          "iopub.status.idle": "2025-01-05T13:47:28.511674Z",
          "shell.execute_reply": "2025-01-05T13:47:28.510522Z"
        },
        "papermill": {
          "duration": 4.390644,
          "end_time": "2025-01-05T13:47:28.513462",
          "exception": false,
          "start_time": "2025-01-05T13:47:24.122818",
          "status": "completed"
        },
        "tags": [],
        "colab": {
          "base_uri": "https://localhost:8080/"
        },
        "id": "8d699e6a",
        "outputId": "2df4aa71-4cb3-4ae1-a732-ec10000be1ee"
      },
      "outputs": [
        {
          "output_type": "stream",
          "name": "stdout",
          "text": [
            "Cross-Validation R² Scores: [0.92684767 0.92891598 0.91765852 0.92507922 0.92409311]\n",
            "Mean R²: 0.9245188995567999\n"
          ]
        }
      ],
      "source": [
        "from sklearn.model_selection import cross_val_score\n",
        "\n",
        "# Perform 5-fold cross-validation\n",
        "scores = cross_val_score(model, X, y, cv=5, scoring='r2')\n",
        "print(f'Cross-Validation R² Scores: {scores}')\n",
        "print(f'Mean R²: {scores.mean()}')"
      ]
    },
    {
      "cell_type": "code",
      "execution_count": 21,
      "id": "20344706",
      "metadata": {
        "papermill": {
          "duration": 0.006536,
          "end_time": "2025-01-05T13:47:28.526810",
          "exception": false,
          "start_time": "2025-01-05T13:47:28.520274",
          "status": "completed"
        },
        "tags": [],
        "id": "20344706"
      },
      "outputs": [],
      "source": []
    }
  ],
  "metadata": {
    "kaggle": {
      "accelerator": "none",
      "dataSources": [
        {
          "datasetId": 1416444,
          "sourceId": 2346296,
          "sourceType": "datasetVersion"
        }
      ],
      "dockerImageVersionId": 30822,
      "isGpuEnabled": false,
      "isInternetEnabled": true,
      "language": "python",
      "sourceType": "notebook"
    },
    "kernelspec": {
      "display_name": "Python 3",
      "language": "python",
      "name": "python3"
    },
    "language_info": {
      "codemirror_mode": {
        "name": "ipython",
        "version": 3
      },
      "file_extension": ".py",
      "mimetype": "text/x-python",
      "name": "python",
      "nbconvert_exporter": "python",
      "pygments_lexer": "ipython3",
      "version": "3.10.12"
    },
    "papermill": {
      "default_parameters": {},
      "duration": 12.829961,
      "end_time": "2025-01-05T13:47:29.253525",
      "environment_variables": {},
      "exception": null,
      "input_path": "__notebook__.ipynb",
      "output_path": "__notebook__.ipynb",
      "parameters": {},
      "start_time": "2025-01-05T13:47:16.423564",
      "version": "2.6.0"
    },
    "colab": {
      "provenance": []
    }
  },
  "nbformat": 4,
  "nbformat_minor": 5
}